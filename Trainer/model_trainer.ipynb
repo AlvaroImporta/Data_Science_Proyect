{
 "cells": [
  {
   "cell_type": "code",
   "execution_count": 2,
   "metadata": {},
   "outputs": [],
   "source": [
    "import pandas as pd\n",
    "from sklearn.preprocessing import MaxAbsScaler\n",
    "from sklearn.ensemble import ExtraTreesRegressor\n",
    "import joblib"
   ]
  },
  {
   "cell_type": "code",
   "execution_count": 3,
   "metadata": {},
   "outputs": [],
   "source": [
    "dict_characters = {'ironclad': 'DataSet_IC', 'silent': 'DataSet_TS', 'defect': 'DataSet_DF', 'watcher': 'DataSet_TS'}"
   ]
  },
  {
   "cell_type": "code",
   "execution_count": 3,
   "metadata": {},
   "outputs": [],
   "source": [
    "for i in dict_characters:\n",
    "    \n",
    "    df = pd.read_csv('../Machine_learning/Load_data/'+ dict_characters[i] +'.csv')\n",
    "    X = df.drop(columns=[\"level_asc_floor\",'character', 'damage_taken','enemies','dmg_mean_ascension','enemy_type'])\n",
    "    y = df[\"level_asc_floor\"]\n",
    "\n",
    "    scaler = MaxAbsScaler()\n",
    "    X_scaled = scaler.fit_transform(X)\n",
    "\n",
    "    model = ExtraTreesRegressor(n_estimators=100, random_state=42)\n",
    "    model.fit(X_scaled, y)\n",
    "\n",
    "    joblib.dump(model, 'extra_trees_'+ i +'.pkl')"
   ]
  },
  {
   "cell_type": "code",
   "execution_count": 8,
   "metadata": {},
   "outputs": [
    {
     "name": "stdout",
     "output_type": "stream",
     "text": [
      "444\n"
     ]
    }
   ],
   "source": [
    "### ESTO ES PARA SABER CUANTAS Y QUE COLUMNAS SE USARON EN EL MODELO\n",
    "\n",
    "list_columns = []\n",
    "\n",
    "for i in dict_characters:\n",
    "    df = pd.read_csv('../Machine_learning/Load_data/'+ dict_characters[i] +'.csv')\n",
    "    X = df.drop(columns=[\"level_asc_floor\",'character', 'damage_taken','enemies','dmg_mean_ascension','enemy_type'])\n",
    "\n",
    "    if i == 'watcher':\n",
    "        list_columns = X.columns\n",
    "\n",
    "print(len(list_columns))\n"
   ]
  }
 ],
 "metadata": {
  "kernelspec": {
   "display_name": "base",
   "language": "python",
   "name": "python3"
  },
  "language_info": {
   "codemirror_mode": {
    "name": "ipython",
    "version": 3
   },
   "file_extension": ".py",
   "mimetype": "text/x-python",
   "name": "python",
   "nbconvert_exporter": "python",
   "pygments_lexer": "ipython3",
   "version": "3.11.7"
  }
 },
 "nbformat": 4,
 "nbformat_minor": 2
}
