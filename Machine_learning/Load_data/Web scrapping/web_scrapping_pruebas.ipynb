{
 "cells": [
  {
   "cell_type": "code",
   "execution_count": 2,
   "metadata": {},
   "outputs": [],
   "source": [
    "import requests\n",
    "from bs4 import BeautifulSoup\n",
    "import pandas as pd\n",
    "import numpy as np\n",
    "import os\n",
    "from urllib.parse import urlparse"
   ]
  },
  {
   "cell_type": "code",
   "execution_count": 3,
   "metadata": {},
   "outputs": [
    {
     "name": "stdout",
     "output_type": "stream",
     "text": [
      "True\n"
     ]
    }
   ],
   "source": [
    "url = \"https://slay-the-spire.fandom.com/wiki/Ironclad_Cards\"\n",
    "response = requests.get(url)\n",
    "print(bool(response))\n",
    "soup = BeautifulSoup(response.text, \"html.parser\")\n",
    "parsed_url = urlparse(url)\n",
    "# Obtener la última parte del path\n",
    "last_part = parsed_url.path.split('/')[-1]\n"
   ]
  },
  {
   "cell_type": "code",
   "execution_count": 28,
   "metadata": {},
   "outputs": [
    {
     "name": "stdout",
     "output_type": "stream",
     "text": [
      "{'Bash': 'https://static.wikia.nocookie.net/slay-the-spire/images/d/d8/Bash.png/revision/latest?cb=20181016205628', 'Defend': 'https://static.wikia.nocookie.net/slay-the-spire/images/7/7d/Defend_R.png/revision/latest?cb=20181016205732', 'Strike': 'https://static.wikia.nocookie.net/slay-the-spire/images/0/06/Strike_R.png/revision/latest?cb=20181016211045', 'Anger': 'https://static.wikia.nocookie.net/slay-the-spire/images/3/3f/Anger.png/revision/latest?cb=20181016205628', 'Armaments': 'https://static.wikia.nocookie.net/slay-the-spire/images/c/c3/Armaments.png/revision/latest?cb=20181016205628', 'Body Slam': 'https://static.wikia.nocookie.net/slay-the-spire/images/1/10/BodySlam.png/revision/latest?cb=20181016205629', 'Clash': 'https://static.wikia.nocookie.net/slay-the-spire/images/f/fb/Clash.png/revision/latest?cb=20181016205731', 'Cleave': 'https://static.wikia.nocookie.net/slay-the-spire/images/c/c8/Cleave.png/revision/latest?cb=20181016205731', 'Clothesline': 'https://static.wikia.nocookie.net/slay-the-spire/images/8/8f/Clothesline.png/revision/latest?cb=20181016205731', 'Flex': 'https://static.wikia.nocookie.net/slay-the-spire/images/5/5a/Flex.png/revision/latest?cb=20181016205957', 'Havoc': 'https://static.wikia.nocookie.net/slay-the-spire/images/5/5b/Havoc.png/revision/latest?cb=20181016205957', 'Headbutt': 'https://static.wikia.nocookie.net/slay-the-spire/images/1/1a/Headbutt.png/revision/latest?cb=20181016205957', 'Heavy Blade': 'https://static.wikia.nocookie.net/slay-the-spire/images/5/58/HeavyBlade.png/revision/latest?cb=20181016205957', 'Iron Wave': 'https://static.wikia.nocookie.net/slay-the-spire/images/9/9e/IronWave.png/revision/latest?cb=20181016210817', 'Perfected Strike': 'https://static.wikia.nocookie.net/slay-the-spire/images/7/77/PerfectedStrike.png/revision/latest?cb=20181016210818', 'Pommel Strike': 'https://static.wikia.nocookie.net/slay-the-spire/images/3/35/PommelStrike.png/revision/latest?cb=20181016210950', 'Shrug it Off': 'https://static.wikia.nocookie.net/slay-the-spire/images/4/4a/ShrugItOff.png/revision/latest?cb=20181016211044', 'Sword Boomerang': 'https://static.wikia.nocookie.net/slay-the-spire/images/1/18/SwordBoomerang.png/revision/latest?cb=20181016211045', 'Thunderclap': 'https://static.wikia.nocookie.net/slay-the-spire/images/8/8a/Thunderclap.png/revision/latest?cb=20181016211045', 'True Grit': 'https://static.wikia.nocookie.net/slay-the-spire/images/4/46/TrueGrit.png/revision/latest?cb=20181016211045', 'Twin Strike': 'https://static.wikia.nocookie.net/slay-the-spire/images/1/18/TwinStrike.png/revision/latest?cb=20181016211122', 'Warcry': 'https://static.wikia.nocookie.net/slay-the-spire/images/9/9a/Warcry.png/revision/latest?cb=20181016211122', 'Wild Strike': 'https://static.wikia.nocookie.net/slay-the-spire/images/4/44/WildStrike.png/revision/latest?cb=20181016211122', 'Battle Trance': 'https://static.wikia.nocookie.net/slay-the-spire/images/3/3a/BattleTrance.png/revision/latest?cb=20181016205629', 'Blood for Blood': 'https://static.wikia.nocookie.net/slay-the-spire/images/c/c8/BloodforBlood.png/revision/latest?cb=20181016205629', 'Bloodletting': 'https://static.wikia.nocookie.net/slay-the-spire/images/f/ff/Bloodletting.png/revision/latest?cb=20210408070953', 'Burning Pact': 'https://static.wikia.nocookie.net/slay-the-spire/images/9/98/BurningPact.png/revision/latest?cb=20181016205731', 'Carnage': 'https://static.wikia.nocookie.net/slay-the-spire/images/4/4f/Carnage.png/revision/latest?cb=20181016205731', 'Combust': 'https://static.wikia.nocookie.net/slay-the-spire/images/e/e7/Combust.png/revision/latest?cb=20181016205732', 'Dark Embrace': 'https://static.wikia.nocookie.net/slay-the-spire/images/a/a6/DarkEmbrace.png/revision/latest?cb=20200128065538', 'Disarm': 'https://static.wikia.nocookie.net/slay-the-spire/images/2/29/Disarm.png/revision/latest?cb=20181016205819', 'Dropkick': 'https://static.wikia.nocookie.net/slay-the-spire/images/0/02/Dropkick.png/revision/latest?cb=20181016205819', 'Dual Wield': 'https://static.wikia.nocookie.net/slay-the-spire/images/6/61/DualWield.png/revision/latest?cb=20181016205819', 'Entrench': 'https://static.wikia.nocookie.net/slay-the-spire/images/a/a2/Entrench.png/revision/latest?cb=20181016205819', 'Evolve': 'https://static.wikia.nocookie.net/slay-the-spire/images/5/5d/Evolve.png/revision/latest?cb=20181016205819', 'Feel No Pain': 'https://static.wikia.nocookie.net/slay-the-spire/images/4/41/FeelNoPain.png/revision/latest?cb=20181016205820', 'Fire Breathing': 'https://static.wikia.nocookie.net/slay-the-spire/images/6/60/FireBreathing.png/revision/latest?cb=20200121024142', 'Flame Barrier': 'https://static.wikia.nocookie.net/slay-the-spire/images/c/cc/FlameBarrier.png/revision/latest?cb=20181016205957', 'Ghostly Armor': 'https://static.wikia.nocookie.net/slay-the-spire/images/7/71/GhostlyArmor.png/revision/latest?cb=20181016205957', 'Hemokinesis': 'https://static.wikia.nocookie.net/slay-the-spire/images/1/17/Hemokinesis.png/revision/latest?cb=20210408071312', 'Infernal Blade': 'https://static.wikia.nocookie.net/slay-the-spire/images/0/0b/InfernalBlade.png/revision/latest?cb=20181016210817', 'Inflame': 'https://static.wikia.nocookie.net/slay-the-spire/images/0/02/Inflame.png/revision/latest?cb=20181016210817', 'Intimidate': 'https://static.wikia.nocookie.net/slay-the-spire/images/7/72/Intimidate.png/revision/latest?cb=20181016210817', 'Metallicize': 'https://static.wikia.nocookie.net/slay-the-spire/images/c/cd/Metallicize.png/revision/latest?cb=20181016210818', 'Power Through': 'https://static.wikia.nocookie.net/slay-the-spire/images/4/4f/PowerThrough.png/revision/latest?cb=20181016210950', 'Pummel': 'https://static.wikia.nocookie.net/slay-the-spire/images/e/ec/Pummel.png/revision/latest?cb=20181016210951', 'Rage': 'https://static.wikia.nocookie.net/slay-the-spire/images/2/27/Rage.png/revision/latest?cb=20181016210951', 'Rampage': 'https://static.wikia.nocookie.net/slay-the-spire/images/e/e4/Rampage.png/revision/latest?cb=20181016210951', 'Reckless Charge': 'https://static.wikia.nocookie.net/slay-the-spire/images/f/f7/RecklessCharge.png/revision/latest?cb=20181016210951', 'Rupture': 'https://static.wikia.nocookie.net/slay-the-spire/images/3/38/Rupture.png/revision/latest?cb=20210408071643', 'Searing Blow': 'https://static.wikia.nocookie.net/slay-the-spire/images/d/dc/SearingBlow.png/revision/latest?cb=20181016210951', 'Second Wind': 'https://static.wikia.nocookie.net/slay-the-spire/images/b/ba/SecondWind.png/revision/latest?cb=20181016210952', 'Seeing Red': 'https://static.wikia.nocookie.net/slay-the-spire/images/c/c2/SeeingRed.png/revision/latest?cb=20181016211044', 'Sentinel': 'https://static.wikia.nocookie.net/slay-the-spire/images/9/91/Sentinel.png/revision/latest?cb=20181016211044', 'Sever Soul': 'https://static.wikia.nocookie.net/slay-the-spire/images/1/11/SeverSoul.png/revision/latest?cb=20181016211044', 'Shockwave': 'https://static.wikia.nocookie.net/slay-the-spire/images/6/65/Shockwave.png/revision/latest?cb=20181016211044', 'Spot Weakness': 'https://static.wikia.nocookie.net/slay-the-spire/images/5/56/SpotWeakness.png/revision/latest?cb=20181016211045', 'Uppercut': 'https://static.wikia.nocookie.net/slay-the-spire/images/2/27/Uppercut.png/revision/latest?cb=20181016211122', 'Whirlwind': 'https://static.wikia.nocookie.net/slay-the-spire/images/e/e0/Whirlwind.png/revision/latest?cb=20181016211122', 'Barricade': 'https://static.wikia.nocookie.net/slay-the-spire/images/1/12/Barricade.png/revision/latest?cb=20181016205628', 'Berserk': 'https://static.wikia.nocookie.net/slay-the-spire/images/4/44/Berserk.png/revision/latest?cb=20190829162548', 'Bludgeon': 'https://static.wikia.nocookie.net/slay-the-spire/images/9/96/Bludgeon.png/revision/latest?cb=20181016205629', 'Brutality': 'https://static.wikia.nocookie.net/slay-the-spire/images/b/ba/Brutality.png/revision/latest?cb=20181016205731', 'Corruption': 'https://static.wikia.nocookie.net/slay-the-spire/images/7/75/Corruption.png/revision/latest?cb=20200128065608', 'Demon Form': 'https://static.wikia.nocookie.net/slay-the-spire/images/a/a1/DemonForm.png/revision/latest?cb=20181016205819', 'Double Tap': 'https://static.wikia.nocookie.net/slay-the-spire/images/8/84/DoubleTap.png/revision/latest?cb=20181016205819', 'Exhume': 'https://static.wikia.nocookie.net/slay-the-spire/images/1/1b/Exhume.png/revision/latest?cb=20181016205820', 'Feed': 'https://static.wikia.nocookie.net/slay-the-spire/images/4/44/Feed.png/revision/latest?cb=20200121024417', 'Fiend Fire': 'https://static.wikia.nocookie.net/slay-the-spire/images/0/0a/FiendFire.png/revision/latest?cb=20181016205956', 'Immolate': 'https://static.wikia.nocookie.net/slay-the-spire/images/5/5f/Immolate.png/revision/latest?cb=20181016205958', 'Impervious': 'https://static.wikia.nocookie.net/slay-the-spire/images/e/e3/Impervious.png/revision/latest?cb=20181016210816', 'Juggernaut': 'https://static.wikia.nocookie.net/slay-the-spire/images/0/07/Juggernaut.png/revision/latest?cb=20181016210817', 'Limit Break': 'https://static.wikia.nocookie.net/slay-the-spire/images/8/8c/LimitBreak.png/revision/latest?cb=20181016210818', 'Offering': 'https://static.wikia.nocookie.net/slay-the-spire/images/4/47/Offering.png/revision/latest?cb=20181016210818', 'Reaper': 'https://static.wikia.nocookie.net/slay-the-spire/images/6/6a/Reaper.png/revision/latest?cb=20181016210951'}\n"
     ]
    }
   ],
   "source": [
    "imagenes = {}\n",
    "for imagen in soup.find(\"tbody\").find_all(\"tr\"):\n",
    "    for nombre in imagen.find_all(\"td\"):\n",
    "        if nombre.a is not None and nombre.a.text != \"\":\n",
    "            nombre_var = nombre.a.text\n",
    "        if nombre.find(\"figure\")is not None:\n",
    "            png_var = nombre.find(\"figure\").a[\"href\"]\n",
    "            imagenes.update({nombre_var: png_var})\n",
    "print(imagenes)"
   ]
  },
  {
   "cell_type": "code",
   "execution_count": 33,
   "metadata": {},
   "outputs": [],
   "source": [
    "carpeta_imagenes = f'imagenes_cartas/imagenes_{\"prueba\"}'\n",
    "if not os.path.exists(carpeta_imagenes):\n",
    "    os.makedirs(carpeta_imagenes) \n",
    "# Descargar cada imagen\n",
    "for nombre, url_imagen in imagenes.items():\n",
    "    # Obtener el contenido de la imagen\n",
    "    respuesta_imagen = requests.get(url_imagen, stream=True)\n",
    "    if respuesta_imagen.status_code == 200:\n",
    "        # Crear la ruta completa para guardar la imagen\n",
    "        ruta_imagen = os.path.join(carpeta_imagenes, nombre + '.jpg')\n",
    "        # Guardar la imagen en el archivo\n",
    "        with open(ruta_imagen, 'wb') as archivo_imagen:\n",
    "            for chunk in respuesta_imagen.iter_content(1024):\n",
    "                archivo_imagen.write(chunk)\n",
    "    else:\n",
    "        print(f'No se pudo descargar la imagen {nombre}.')"
   ]
  }
 ],
 "metadata": {
  "kernelspec": {
   "display_name": "base",
   "language": "python",
   "name": "python3"
  },
  "language_info": {
   "codemirror_mode": {
    "name": "ipython",
    "version": 3
   },
   "file_extension": ".py",
   "mimetype": "text/x-python",
   "name": "python",
   "nbconvert_exporter": "python",
   "pygments_lexer": "ipython3",
   "version": "3.11.7"
  }
 },
 "nbformat": 4,
 "nbformat_minor": 2
}
