{
 "cells": [
  {
   "cell_type": "code",
   "execution_count": 1,
   "metadata": {},
   "outputs": [],
   "source": [
    "import requests\n",
    "from bs4 import BeautifulSoup\n",
    "import os"
   ]
  },
  {
   "cell_type": "code",
   "execution_count": 2,
   "metadata": {},
   "outputs": [
    {
     "name": "stdout",
     "output_type": "stream",
     "text": [
      "True\n"
     ]
    }
   ],
   "source": [
    "url = \"https://slay-the-spire.fandom.com/wiki/Relics\"\n",
    "response = requests.get(url)\n",
    "print(bool(response))\n",
    "soup = BeautifulSoup(response.text, \"html.parser\")"
   ]
  },
  {
   "cell_type": "code",
   "execution_count": 3,
   "metadata": {},
   "outputs": [],
   "source": [
    "imagenes = {}\n",
    "\n",
    "for data in soup.find_all(\"span\", attrs={\"class\":\"relic-tooltip\"}):\n",
    "    nombre = data[\"data-name\"]\n",
    "    imagen = data.img[\"data-src\"]\n",
    "    imagenes.update({nombre: imagen})"
   ]
  },
  {
   "cell_type": "code",
   "execution_count": 4,
   "metadata": {},
   "outputs": [
    {
     "data": {
      "text/plain": [
       "179"
      ]
     },
     "execution_count": 4,
     "metadata": {},
     "output_type": "execute_result"
    }
   ],
   "source": [
    "len(imagenes)"
   ]
  },
  {
   "cell_type": "code",
   "execution_count": 5,
   "metadata": {},
   "outputs": [],
   "source": [
    "carpeta_imagenes = f'imagenes_reliquias'\n",
    "if not os.path.exists(carpeta_imagenes):\n",
    "    os.makedirs(carpeta_imagenes) \n",
    "# Descargar cada imagen\n",
    "for nombre, url_imagen in imagenes.items():\n",
    "    # Obtener el contenido de la imagen\n",
    "    respuesta_imagen = requests.get(url_imagen, stream=True)\n",
    "    if respuesta_imagen.status_code == 200:\n",
    "        # Crear la ruta completa para guardar la imagen\n",
    "        ruta_imagen = os.path.join(carpeta_imagenes, nombre + '.jpg')\n",
    "        # Guardar la imagen en el archivo\n",
    "        with open(ruta_imagen, 'wb') as archivo_imagen:\n",
    "            for chunk in respuesta_imagen.iter_content(1024):\n",
    "                archivo_imagen.write(chunk)\n",
    "    else:\n",
    "        print(f'No se pudo descargar la imagen {nombre}.')"
   ]
  },
  {
   "cell_type": "code",
   "execution_count": 6,
   "metadata": {},
   "outputs": [],
   "source": [
    "def download_img_relic(imagenes):\n",
    "    carpeta_imagenes = f'imagenes_reliquias'\n",
    "    if not os.path.exists(carpeta_imagenes):\n",
    "        os.makedirs(carpeta_imagenes) \n",
    "    # Descargar cada imagen\n",
    "    for nombre, url_imagen in imagenes.items():\n",
    "        # Obtener el contenido de la imagen\n",
    "        respuesta_imagen = requests.get(url_imagen, stream=True)\n",
    "        if respuesta_imagen.status_code == 200:\n",
    "            # Crear la ruta completa para guardar la imagen\n",
    "            ruta_imagen = os.path.join(carpeta_imagenes, nombre + '.jpg')\n",
    "            # Guardar la imagen en el archivo\n",
    "            with open(ruta_imagen, 'wb') as archivo_imagen:\n",
    "                for chunk in respuesta_imagen.iter_content(1024):\n",
    "                    archivo_imagen.write(chunk)\n",
    "        else:\n",
    "            print(f'No se pudo descargar la imagen {nombre}.')"
   ]
  },
  {
   "cell_type": "code",
   "execution_count": 7,
   "metadata": {},
   "outputs": [],
   "source": [
    "def create_dict_relics(soup_in):\n",
    "    imagenes = {}\n",
    "\n",
    "    for data in soup_in.find_all(\"span\", attrs={\"class\":\"relic-tooltip\"}):\n",
    "        nombre = data[\"data-name\"]\n",
    "        imagen = data.img[\"data-src\"]\n",
    "        imagenes.update({nombre: imagen})\n",
    "\n",
    "    return imagenes"
   ]
  },
  {
   "cell_type": "code",
   "execution_count": 8,
   "metadata": {},
   "outputs": [],
   "source": [
    "def download_relics():\n",
    "    url = \"https://slay-the-spire.fandom.com/wiki/Relics\"\n",
    "    response = requests.get(url)\n",
    "    print(bool(response))\n",
    "    soup = BeautifulSoup(response.text, \"html.parser\")\n",
    "\n",
    "    dict_relics = create_dict_relics(soup)\n",
    "    download_img_relic(dict_relics)\n",
    "    "
   ]
  },
  {
   "cell_type": "code",
   "execution_count": 9,
   "metadata": {},
   "outputs": [
    {
     "name": "stdout",
     "output_type": "stream",
     "text": [
      "True\n"
     ]
    }
   ],
   "source": [
    "download_relics()"
   ]
  },
  {
   "cell_type": "code",
   "execution_count": 11,
   "metadata": {},
   "outputs": [
    {
     "data": {
      "text/plain": [
       "{'Akabeko': 'https://static.wikia.nocookie.net/slay-the-spire/images/4/4c/Akabeko.png/revision/latest/scale-to-width-down/67?cb=20200203145854',\n",
       " 'Anchor': 'https://static.wikia.nocookie.net/slay-the-spire/images/c/c0/Anchor.png/revision/latest/scale-to-width-down/67?cb=20190923232659',\n",
       " 'Ancient Tea Set': 'https://static.wikia.nocookie.net/slay-the-spire/images/e/e6/AncientTeaSet.png/revision/latest/scale-to-width-down/67?cb=20200203145924',\n",
       " 'Art of War': 'https://static.wikia.nocookie.net/slay-the-spire/images/b/bb/ArtofWar.png/revision/latest/scale-to-width-down/67?cb=20190923232721',\n",
       " 'Astrolabe': 'https://static.wikia.nocookie.net/slay-the-spire/images/8/83/Astrolabe.png/revision/latest/scale-to-width-down/67?cb=20190923232730',\n",
       " 'Bag of Marbles': 'https://static.wikia.nocookie.net/slay-the-spire/images/f/f5/BagofMarbles.png/revision/latest/scale-to-width-down/67?cb=20190923232819',\n",
       " 'Bag of Preparation': 'https://static.wikia.nocookie.net/slay-the-spire/images/a/ad/BagofPreparation.png/revision/latest/scale-to-width-down/67?cb=20200203150012',\n",
       " 'Bird-Faced Urn': 'https://static.wikia.nocookie.net/slay-the-spire/images/5/5c/BirdFacedUrn.png/revision/latest/scale-to-width-down/67?cb=20200203151925',\n",
       " 'Black Blood': 'https://static.wikia.nocookie.net/slay-the-spire/images/3/32/BlackBlood.png/revision/latest/scale-to-width-down/67?cb=20200203152801',\n",
       " 'Black Star': 'https://static.wikia.nocookie.net/slay-the-spire/images/1/10/BlackStar.png/revision/latest/scale-to-width-down/67?cb=20200203152814',\n",
       " 'Blood Vial': 'https://static.wikia.nocookie.net/slay-the-spire/images/4/4e/BloodVial.png/revision/latest/scale-to-width-down/67?cb=20200203150024',\n",
       " 'Bloody Idol': 'https://static.wikia.nocookie.net/slay-the-spire/images/6/61/BloodyIdol.png/revision/latest/scale-to-width-down/67?cb=20190923232924',\n",
       " 'Blue Candle': 'https://static.wikia.nocookie.net/slay-the-spire/images/1/1b/BlueCandle.png/revision/latest/scale-to-width-down/67?cb=20190923232937',\n",
       " 'Bottled Flame': 'https://static.wikia.nocookie.net/slay-the-spire/images/f/f1/BottledFlame.png/revision/latest/scale-to-width-down/67?cb=20200203150918',\n",
       " 'Bottled Lightning': 'https://static.wikia.nocookie.net/slay-the-spire/images/a/a9/BottledLightning.png/revision/latest/scale-to-width-down/67?cb=20200203150959',\n",
       " 'Bottled Tornado': 'https://static.wikia.nocookie.net/slay-the-spire/images/a/ac/BottledTornado.png/revision/latest/scale-to-width-down/67?cb=20200203150935',\n",
       " 'Brimstone': 'https://static.wikia.nocookie.net/slay-the-spire/images/2/25/Brimstone.png/revision/latest/scale-to-width-down/67?cb=20200203154018',\n",
       " 'Bronze Scales': 'https://static.wikia.nocookie.net/slay-the-spire/images/3/3e/BronzeScales.png/revision/latest/scale-to-width-down/67?cb=20190923233120',\n",
       " 'Burning Blood': 'https://static.wikia.nocookie.net/slay-the-spire/images/1/1a/BurningBlood.png/revision/latest/scale-to-width-down/67?cb=20200203145554',\n",
       " 'Busted Crown': 'https://static.wikia.nocookie.net/slay-the-spire/images/f/f7/BustedCrown.png/revision/latest/scale-to-width-down/67?cb=20200203152839',\n",
       " 'Calipers': 'https://static.wikia.nocookie.net/slay-the-spire/images/e/ed/Calipers.png/revision/latest/scale-to-width-down/67?cb=20200203151937',\n",
       " 'Calling Bell': 'https://static.wikia.nocookie.net/slay-the-spire/images/5/56/CallingBell.png/revision/latest/scale-to-width-down/67?cb=20200203152851',\n",
       " \"Captain's Wheel\": 'https://static.wikia.nocookie.net/slay-the-spire/images/a/a6/Captain_wheel.png/revision/latest/scale-to-width-down/67?cb=20200203152549',\n",
       " 'Cauldron': 'https://static.wikia.nocookie.net/slay-the-spire/images/3/37/Cauldron.png/revision/latest/scale-to-width-down/67?cb=20190923233233',\n",
       " 'Centennial Puzzle': 'https://static.wikia.nocookie.net/slay-the-spire/images/0/0f/CentennialPuzzle.png/revision/latest/scale-to-width-down/67?cb=20190923233245',\n",
       " 'Ceramic Fish': 'https://static.wikia.nocookie.net/slay-the-spire/images/a/a1/CeramicFish.png/revision/latest/scale-to-width-down/67?cb=20200203150047',\n",
       " 'Champion Belt': 'https://static.wikia.nocookie.net/slay-the-spire/images/6/6d/ChampionBelt.png/revision/latest/scale-to-width-down/67?cb=20190923233308',\n",
       " \"Charon's Ashes\": 'https://static.wikia.nocookie.net/slay-the-spire/images/e/ea/CharonsAshes.png/revision/latest/scale-to-width-down/67?cb=20190923233320',\n",
       " 'Chemical X': 'https://static.wikia.nocookie.net/slay-the-spire/images/f/f9/ChemicalX.png/revision/latest/scale-to-width-down/67?cb=20190923233334',\n",
       " 'Circlet': 'https://static.wikia.nocookie.net/slay-the-spire/images/5/50/Circlet.png/revision/latest/scale-to-width-down/67?cb=20200203154627',\n",
       " 'Cloak Clasp': 'https://static.wikia.nocookie.net/slay-the-spire/images/6/6a/CloakClasp.png/revision/latest/scale-to-width-down/67?cb=20200203152008',\n",
       " 'Clockwork Souvenir': 'https://static.wikia.nocookie.net/slay-the-spire/images/d/d9/ClockworkSouvenir.png/revision/latest/scale-to-width-down/67?cb=20200203154031',\n",
       " 'Coffee Dripper': 'https://static.wikia.nocookie.net/slay-the-spire/images/8/86/CoffeeDripper.png/revision/latest/scale-to-width-down/67?cb=20200203152912',\n",
       " 'Cracked Core': 'https://static.wikia.nocookie.net/slay-the-spire/images/e/ed/CrackedCore.png/revision/latest/scale-to-width-down/67?cb=20200203145614',\n",
       " 'Cultist Headpiece': 'https://static.wikia.nocookie.net/slay-the-spire/images/a/a0/CultistMask.png/revision/latest/scale-to-width-down/67?cb=20200203153646',\n",
       " 'Cursed Key': 'https://static.wikia.nocookie.net/slay-the-spire/images/e/e0/CursedKey.png/revision/latest/scale-to-width-down/67?cb=20190923233437',\n",
       " 'Damaru': 'https://static.wikia.nocookie.net/slay-the-spire/images/2/20/Damaru.png/revision/latest/scale-to-width-down/67?cb=20200203150106',\n",
       " 'Darkstone Periapt': 'https://static.wikia.nocookie.net/slay-the-spire/images/5/5c/DarkstonePeriapt.png/revision/latest/scale-to-width-down/67?cb=20190923233449',\n",
       " 'Data Disk': 'https://static.wikia.nocookie.net/slay-the-spire/images/b/b1/DataDisk.png/revision/latest/scale-to-width-down/67?cb=20200203150122',\n",
       " 'Dead Branch': 'https://static.wikia.nocookie.net/slay-the-spire/images/d/db/DeadBranch.png/revision/latest/scale-to-width-down/67?cb=20190923233515',\n",
       " \"Dolly's Mirror\": 'https://static.wikia.nocookie.net/slay-the-spire/images/1/11/DollysMirror.png/revision/latest/scale-to-width-down/67?cb=20200203154048',\n",
       " 'Dream Catcher': 'https://static.wikia.nocookie.net/slay-the-spire/images/d/d3/DreamCatcher.png/revision/latest/scale-to-width-down/67?cb=20190923233551',\n",
       " 'Du-Vu Doll': 'https://static.wikia.nocookie.net/slay-the-spire/images/7/79/Du-VuDoll.png/revision/latest/scale-to-width-down/67?cb=20190923233622',\n",
       " 'Duality': 'https://static.wikia.nocookie.net/slay-the-spire/images/9/9f/Yang-0.png/revision/latest/scale-to-width-down/67?cb=20200203151020',\n",
       " 'Ectoplasm': 'https://static.wikia.nocookie.net/slay-the-spire/images/3/36/Ectoplasm.png/revision/latest/scale-to-width-down/67?cb=20190923233606',\n",
       " 'Emotion Chip': 'https://static.wikia.nocookie.net/slay-the-spire/images/d/dc/EmotionChip.png/revision/latest/scale-to-width-down/67?cb=20200203152602',\n",
       " 'Empty Cage': 'https://static.wikia.nocookie.net/slay-the-spire/images/6/64/EmptyCage.png/revision/latest/scale-to-width-down/67?cb=20200203152932',\n",
       " 'Enchiridion': 'https://static.wikia.nocookie.net/slay-the-spire/images/8/8e/Enchiridion.png/revision/latest/scale-to-width-down/67?cb=20190923233700',\n",
       " 'Eternal Feather': 'https://static.wikia.nocookie.net/slay-the-spire/images/f/f4/EternalFeather.png/revision/latest/scale-to-width-down/67?cb=20200203151038',\n",
       " 'Face of Cleric': 'https://static.wikia.nocookie.net/slay-the-spire/images/9/9d/FaceOfCleric.png/revision/latest/scale-to-width-down/67?cb=20200203153658',\n",
       " 'Fossilized Helix': 'https://static.wikia.nocookie.net/slay-the-spire/images/2/25/FossilizedHelix.png/revision/latest/scale-to-width-down/67?cb=20200203152023',\n",
       " 'Frozen Core': 'https://static.wikia.nocookie.net/slay-the-spire/images/1/1d/FrozenCore.png/revision/latest/scale-to-width-down/67?cb=20200203152950',\n",
       " 'Frozen Egg': 'https://static.wikia.nocookie.net/slay-the-spire/images/e/e3/FrozenEgg2.png/revision/latest/scale-to-width-down/67?cb=20190923233759',\n",
       " 'Frozen Eye': 'https://static.wikia.nocookie.net/slay-the-spire/images/9/97/FrozenEye.png/revision/latest/scale-to-width-down/67?cb=20190923233812',\n",
       " 'Fusion Hammer': 'https://static.wikia.nocookie.net/slay-the-spire/images/3/31/FusionHammer.png/revision/latest/scale-to-width-down/67?cb=20200203153002',\n",
       " 'Gambling Chip': 'https://static.wikia.nocookie.net/slay-the-spire/images/9/93/GamblingChip.png/revision/latest/scale-to-width-down/67?cb=20190923233836',\n",
       " 'Ginger': 'https://static.wikia.nocookie.net/slay-the-spire/images/8/85/Ginger.png/revision/latest/scale-to-width-down/67?cb=20190923233848',\n",
       " 'Girya': 'https://static.wikia.nocookie.net/slay-the-spire/images/9/92/Girya.png/revision/latest/scale-to-width-down/67?cb=20190923233901',\n",
       " 'Gold-Plated Cables': 'https://static.wikia.nocookie.net/slay-the-spire/images/2/2a/Cables.png/revision/latest/scale-to-width-down/67?cb=20200203151101',\n",
       " 'Golden Eye': 'https://static.wikia.nocookie.net/slay-the-spire/images/b/b7/Golden_eye.png/revision/latest/scale-to-width-down/67?cb=20200203152613',\n",
       " 'Golden Idol': 'https://static.wikia.nocookie.net/slay-the-spire/images/5/58/GoldenIdol.png/revision/latest/scale-to-width-down/67?cb=20190923233911',\n",
       " 'Gremlin Horn': 'https://static.wikia.nocookie.net/slay-the-spire/images/0/06/GremlinHorn.png/revision/latest/scale-to-width-down/67?cb=20200203151114',\n",
       " 'Gremlin Visage': 'https://static.wikia.nocookie.net/slay-the-spire/images/4/44/GremlinMask.png/revision/latest/scale-to-width-down/67?cb=20200203153712',\n",
       " 'Hand Drill': 'https://static.wikia.nocookie.net/slay-the-spire/images/d/d0/HandDrill.png/revision/latest/scale-to-width-down/67?cb=20200203154111',\n",
       " 'Happy Flower': 'https://static.wikia.nocookie.net/slay-the-spire/images/7/7a/HappyFlower.png/revision/latest/scale-to-width-down/67?cb=20190923234001',\n",
       " 'Holy Water': 'https://static.wikia.nocookie.net/slay-the-spire/images/5/5e/Holy_water.png/revision/latest/scale-to-width-down/67?cb=20200203153018',\n",
       " 'Horn Cleat': 'https://static.wikia.nocookie.net/slay-the-spire/images/b/bb/Horn_cleat.png/revision/latest/scale-to-width-down/67?cb=20200203151129',\n",
       " 'Hovering Kite': 'https://static.wikia.nocookie.net/slay-the-spire/images/9/96/HoveringKite.png/revision/latest/scale-to-width-down/67?cb=20200203153036',\n",
       " 'Ice Cream': 'https://static.wikia.nocookie.net/slay-the-spire/images/1/14/IceCream.png/revision/latest/scale-to-width-down/67?cb=20200203152038',\n",
       " 'Incense Burner': 'https://static.wikia.nocookie.net/slay-the-spire/images/7/78/IncenseBurner.png/revision/latest/scale-to-width-down/67?cb=20200203152109',\n",
       " 'Ink Bottle': 'https://static.wikia.nocookie.net/slay-the-spire/images/a/a3/InkBottle.png/revision/latest/scale-to-width-down/67?cb=20200203151154',\n",
       " 'Inserter': 'https://static.wikia.nocookie.net/slay-the-spire/images/f/fd/Inserter.png/revision/latest/scale-to-width-down/67?cb=20200203153052',\n",
       " 'Juzu Bracelet': 'https://static.wikia.nocookie.net/slay-the-spire/images/2/23/JuzuBracelet.png/revision/latest/scale-to-width-down/67?cb=20200203150156',\n",
       " 'Kunai': 'https://static.wikia.nocookie.net/slay-the-spire/images/d/d7/Kunai.png/revision/latest/scale-to-width-down/67?cb=20200203151212',\n",
       " 'Lantern': 'https://static.wikia.nocookie.net/slay-the-spire/images/f/f5/Lantern.png/revision/latest/scale-to-width-down/67?cb=20190923234140',\n",
       " \"Lee's Waffle\": 'https://static.wikia.nocookie.net/slay-the-spire/images/0/03/LeesWaffle.png/revision/latest/scale-to-width-down/67?cb=20190923234201',\n",
       " 'Letter Opener': 'https://static.wikia.nocookie.net/slay-the-spire/images/e/e5/LetterOpener.png/revision/latest/scale-to-width-down/67?cb=20190923234213',\n",
       " 'Lizard Tail': 'https://static.wikia.nocookie.net/slay-the-spire/images/a/ae/LizardTail.png/revision/latest/scale-to-width-down/67?cb=20190923234223',\n",
       " 'Magic Flower': 'https://static.wikia.nocookie.net/slay-the-spire/images/0/0e/MagicFlower.png/revision/latest/scale-to-width-down/67?cb=20190923234236',\n",
       " 'Mango': 'https://static.wikia.nocookie.net/slay-the-spire/images/3/38/Mango.png/revision/latest/scale-to-width-down/67?cb=20190923234250',\n",
       " 'Mark of Pain': 'https://static.wikia.nocookie.net/slay-the-spire/images/d/df/MarkofPain.png/revision/latest/scale-to-width-down/67?cb=20200203153107',\n",
       " 'Mark of the Bloom': 'https://static.wikia.nocookie.net/slay-the-spire/images/0/0b/MarkoftheBloom.png/revision/latest/scale-to-width-down/67?cb=20200203153722',\n",
       " 'Matryoshka': 'https://static.wikia.nocookie.net/slay-the-spire/images/7/7a/Matryoshka.png/revision/latest/scale-to-width-down/67?cb=20190923234335',\n",
       " 'Maw Bank': 'https://static.wikia.nocookie.net/slay-the-spire/images/e/e4/MawBank.png/revision/latest/scale-to-width-down/67?cb=20200203150215',\n",
       " 'Meal Ticket': 'https://static.wikia.nocookie.net/slay-the-spire/images/1/13/MealTicket.png/revision/latest/scale-to-width-down/67?cb=20200203150235',\n",
       " 'Meat on the Bone': 'https://static.wikia.nocookie.net/slay-the-spire/images/0/04/MeatontheBone.png/revision/latest/scale-to-width-down/67?cb=20200203151237',\n",
       " 'Medical Kit': 'https://static.wikia.nocookie.net/slay-the-spire/images/f/f2/MedicalKit.png/revision/latest/scale-to-width-down/67?cb=20200203154139',\n",
       " 'Melange': 'https://static.wikia.nocookie.net/slay-the-spire/images/3/3a/Melange.png/revision/latest/scale-to-width-down/67?cb=20200203154156',\n",
       " 'Membership Card': 'https://static.wikia.nocookie.net/slay-the-spire/images/3/3d/MembershipCard.png/revision/latest/scale-to-width-down/67?cb=20190923234455',\n",
       " 'Mercury Hourglass': 'https://static.wikia.nocookie.net/slay-the-spire/images/3/32/MercuryHourglass.png/revision/latest/scale-to-width-down/67?cb=20190923234508',\n",
       " 'Molten Egg': 'https://static.wikia.nocookie.net/slay-the-spire/images/7/76/MoltenEgg2.png/revision/latest/scale-to-width-down/67?cb=20190923234518',\n",
       " 'Mummified Hand': 'https://static.wikia.nocookie.net/slay-the-spire/images/4/4d/MummifiedHand.png/revision/latest/scale-to-width-down/67?cb=20190923234527',\n",
       " 'Mutagenic Strength': 'https://static.wikia.nocookie.net/slay-the-spire/images/2/2a/MutagenicStrength.png/revision/latest/scale-to-width-down/67?cb=20200203153737',\n",
       " \"N'loth's Gift\": 'https://static.wikia.nocookie.net/slay-the-spire/images/5/53/NlothsGift.png/revision/latest/scale-to-width-down/67?cb=20190923234645',\n",
       " \"N'loth's Hungry Face\": 'https://static.wikia.nocookie.net/slay-the-spire/images/e/e0/NlothsMask.png/revision/latest/scale-to-width-down/67?cb=20200203153749',\n",
       " 'Necronomicon': 'https://static.wikia.nocookie.net/slay-the-spire/images/7/78/Necronomicon.png/revision/latest/scale-to-width-down/67?cb=20190923234548',\n",
       " \"Neow's Lament\": 'https://static.wikia.nocookie.net/slay-the-spire/images/6/63/NeowsBlessing.png/revision/latest/scale-to-width-down/67?cb=20200203153807',\n",
       " \"Nilry's Codex\": 'https://static.wikia.nocookie.net/slay-the-spire/images/e/e2/NilrysCodex.png/revision/latest/scale-to-width-down/67?cb=20190923234615',\n",
       " 'Ninja Scroll': 'https://static.wikia.nocookie.net/slay-the-spire/images/8/81/NinjaScroll.png/revision/latest/scale-to-width-down/67?cb=20190923234629',\n",
       " 'Nuclear Battery': 'https://static.wikia.nocookie.net/slay-the-spire/images/4/4c/NuclearBattery.png/revision/latest/scale-to-width-down/67?cb=20200203153124',\n",
       " 'Nunchaku': 'https://static.wikia.nocookie.net/slay-the-spire/images/7/7d/Nunchaku.png/revision/latest/scale-to-width-down/67?cb=20200203150252',\n",
       " 'Odd Mushroom': 'https://static.wikia.nocookie.net/slay-the-spire/images/a/a0/OddMushroom.png/revision/latest/scale-to-width-down/67?cb=20200203153819',\n",
       " 'Oddly Smooth Stone': 'https://static.wikia.nocookie.net/slay-the-spire/images/e/ec/OddlySmoothStone.png/revision/latest/scale-to-width-down/67?cb=20200203150309',\n",
       " 'Old Coin': 'https://static.wikia.nocookie.net/slay-the-spire/images/3/38/OldCoin.png/revision/latest/scale-to-width-down/67?cb=20200203152151',\n",
       " 'Omamori': 'https://static.wikia.nocookie.net/slay-the-spire/images/1/1a/Omamori.png/revision/latest/scale-to-width-down/67?cb=20200203150322',\n",
       " 'Orange Pellets': 'https://static.wikia.nocookie.net/slay-the-spire/images/6/6d/OrangePellets.png/revision/latest/scale-to-width-down/67?cb=20200203154213',\n",
       " 'Orichalcum': 'https://static.wikia.nocookie.net/slay-the-spire/images/8/80/Orichalcum.png/revision/latest/scale-to-width-down/67?cb=20200203150349',\n",
       " 'Ornamental Fan': 'https://static.wikia.nocookie.net/slay-the-spire/images/5/52/OrnamentalFan.png/revision/latest/scale-to-width-down/67?cb=20200203151252',\n",
       " 'Orrery': 'https://static.wikia.nocookie.net/slay-the-spire/images/7/75/Orrery.png/revision/latest/scale-to-width-down/67?cb=20200203154229',\n",
       " \"Pandora's Box\": 'https://static.wikia.nocookie.net/slay-the-spire/images/8/8d/PandorasBox.png/revision/latest/scale-to-width-down/67?cb=20200203153138',\n",
       " 'Pantograph': 'https://static.wikia.nocookie.net/slay-the-spire/images/8/82/Pantograph.png/revision/latest/scale-to-width-down/67?cb=20200203151348',\n",
       " 'Paper Krane': 'https://static.wikia.nocookie.net/slay-the-spire/images/c/c0/PaperCrane.png/revision/latest/scale-to-width-down/67?cb=20200203151356',\n",
       " 'Paper Phrog': 'https://static.wikia.nocookie.net/slay-the-spire/images/9/99/PaperFrog.png/revision/latest/scale-to-width-down/67?cb=20200203151403',\n",
       " 'Peace Pipe': 'https://static.wikia.nocookie.net/slay-the-spire/images/2/26/PeacePipe.png/revision/latest/scale-to-width-down/67?cb=20190923235017',\n",
       " 'Pear': 'https://static.wikia.nocookie.net/slay-the-spire/images/b/b0/Pear.png/revision/latest/scale-to-width-down/67?cb=20190923235027',\n",
       " 'Pen Nib': 'https://static.wikia.nocookie.net/slay-the-spire/images/7/70/PenNib.png/revision/latest/scale-to-width-down/67?cb=20200203150403',\n",
       " \"Philosopher's Stone\": 'https://static.wikia.nocookie.net/slay-the-spire/images/1/1a/PhilosophersStone.png/revision/latest/scale-to-width-down/67?cb=20200203153200',\n",
       " 'Pocketwatch': 'https://static.wikia.nocookie.net/slay-the-spire/images/1/1c/Pocketwatch.png/revision/latest/scale-to-width-down/67?cb=20200203152205',\n",
       " 'Potion Belt': 'https://static.wikia.nocookie.net/slay-the-spire/images/9/94/PotionBelt.png/revision/latest/scale-to-width-down/67?cb=20200203150423',\n",
       " 'Prayer Wheel': 'https://static.wikia.nocookie.net/slay-the-spire/images/1/1f/PrayerWheel.png/revision/latest/scale-to-width-down/67?cb=20200203152237',\n",
       " 'Preserved Insect': 'https://static.wikia.nocookie.net/slay-the-spire/images/e/ef/PreservedInsect.png/revision/latest/scale-to-width-down/67?cb=20200203150436',\n",
       " 'Prismatic Shard': 'https://static.wikia.nocookie.net/slay-the-spire/images/c/c9/PrismaticShard.png/revision/latest/scale-to-width-down/67?cb=20200203154300',\n",
       " 'Pure Water': 'https://static.wikia.nocookie.net/slay-the-spire/images/f/fa/PureWater-0.png/revision/latest/scale-to-width-down/67?cb=20200203145626',\n",
       " 'Question Card': 'https://static.wikia.nocookie.net/slay-the-spire/images/6/6e/QuestionCard.png/revision/latest/scale-to-width-down/67?cb=20190923235204',\n",
       " 'Red Mask': 'https://static.wikia.nocookie.net/slay-the-spire/images/a/a4/RedMask.png/revision/latest/scale-to-width-down/67?cb=20190923235218',\n",
       " 'Red Skull': 'https://static.wikia.nocookie.net/slay-the-spire/images/4/4f/RedSkull.png/revision/latest/scale-to-width-down/67?cb=20200203150447',\n",
       " 'Regal Pillow': 'https://static.wikia.nocookie.net/slay-the-spire/images/9/9d/RegalPillow.png/revision/latest/scale-to-width-down/67?cb=20200203150521',\n",
       " 'Ring of the Serpent': 'https://static.wikia.nocookie.net/slay-the-spire/images/5/58/RingoftheSerpent.png/revision/latest/scale-to-width-down/67?cb=20200203153215',\n",
       " 'Ring of the Snake': 'https://static.wikia.nocookie.net/slay-the-spire/images/9/90/RingoftheSnake.png/revision/latest/scale-to-width-down/67?cb=20200203145636',\n",
       " 'Runic Capacitor': 'https://static.wikia.nocookie.net/slay-the-spire/images/5/59/RunicCapacitor.png/revision/latest/scale-to-width-down/67?cb=20200203154244',\n",
       " 'Runic Cube': 'https://static.wikia.nocookie.net/slay-the-spire/images/3/36/RunicCube.png/revision/latest/scale-to-width-down/67?cb=20190923235332',\n",
       " 'Runic Dome': 'https://static.wikia.nocookie.net/slay-the-spire/images/6/6d/RunicDome.png/revision/latest/scale-to-width-down/67?cb=20190923235344',\n",
       " 'Runic Pyramid': 'https://static.wikia.nocookie.net/slay-the-spire/images/8/8e/RunicPyramid.png/revision/latest/scale-to-width-down/67?cb=20190923235358',\n",
       " 'Sacred Bark': 'https://static.wikia.nocookie.net/slay-the-spire/images/a/a2/SacredBark.png/revision/latest/scale-to-width-down/67?cb=20200203153228',\n",
       " 'Self-Forming Clay': 'https://static.wikia.nocookie.net/slay-the-spire/images/2/24/SelfFormingClay.png/revision/latest/scale-to-width-down/67?cb=20190923235423',\n",
       " 'Shovel': 'https://static.wikia.nocookie.net/slay-the-spire/images/7/77/Shovel.png/revision/latest/scale-to-width-down/67?cb=20200203152247',\n",
       " 'Shuriken': 'https://static.wikia.nocookie.net/slay-the-spire/images/a/ac/Shuriken.png/revision/latest/scale-to-width-down/67?cb=20190923235446',\n",
       " 'Singing Bowl': 'https://static.wikia.nocookie.net/slay-the-spire/images/e/eb/SingingBowl.png/revision/latest/scale-to-width-down/67?cb=20190923235457',\n",
       " \"Slaver's Collar\": 'https://static.wikia.nocookie.net/slay-the-spire/images/9/99/SlaversCollar.png/revision/latest/scale-to-width-down/67?cb=20200203153242',\n",
       " 'Sling of Courage': 'https://static.wikia.nocookie.net/slay-the-spire/images/9/93/Sling.png/revision/latest/scale-to-width-down/67?cb=20190923235524',\n",
       " 'Smiling Mask': 'https://static.wikia.nocookie.net/slay-the-spire/images/4/48/SmilingMask.png/revision/latest/scale-to-width-down/67?cb=20190923235534',\n",
       " 'Snecko Eye': 'https://static.wikia.nocookie.net/slay-the-spire/images/5/5e/SneckoEye.png/revision/latest/scale-to-width-down/67?cb=20200203153257',\n",
       " 'Snecko Skull': 'https://static.wikia.nocookie.net/slay-the-spire/images/d/d7/SnakeSkull.png/revision/latest/scale-to-width-down/67?cb=20190923235544',\n",
       " 'Sozu': 'https://static.wikia.nocookie.net/slay-the-spire/images/5/53/Sozu.png/revision/latest/scale-to-width-down/67?cb=20200203153311',\n",
       " 'Spirit Poop': 'https://static.wikia.nocookie.net/slay-the-spire/images/7/74/SpiritPoop.png/revision/latest/scale-to-width-down/67?cb=20200203153830',\n",
       " 'Ssserpent Head': 'https://static.wikia.nocookie.net/slay-the-spire/images/a/a2/SsserpentHead.png/revision/latest/scale-to-width-down/67?cb=20200203153857',\n",
       " 'Stone Calendar': 'https://static.wikia.nocookie.net/slay-the-spire/images/5/50/StoneCalendar.png/revision/latest/scale-to-width-down/67?cb=20200203152306',\n",
       " 'Strange Spoon': 'https://static.wikia.nocookie.net/slay-the-spire/images/7/71/StrangeSpoon.png/revision/latest/scale-to-width-down/67?cb=20200203154314',\n",
       " 'Strawberry': 'https://static.wikia.nocookie.net/slay-the-spire/images/6/6d/Strawberry.png/revision/latest/scale-to-width-down/67?cb=20190923235714',\n",
       " 'Strike Dummy': 'https://static.wikia.nocookie.net/slay-the-spire/images/d/df/StrikeDummy.png/revision/latest/scale-to-width-down/67?cb=20200203151413',\n",
       " 'Sundial': 'https://static.wikia.nocookie.net/slay-the-spire/images/1/15/Sundial.png/revision/latest/scale-to-width-down/67?cb=20200203151421',\n",
       " 'Symbiotic Virus': 'https://static.wikia.nocookie.net/slay-the-spire/images/0/0f/SymbioticVirus.png/revision/latest/scale-to-width-down/67?cb=20200203151431',\n",
       " 'Teardrop Locket': 'https://static.wikia.nocookie.net/slay-the-spire/images/4/44/Tear_drop_locket.png/revision/latest/scale-to-width-down/67?cb=20200203151444',\n",
       " 'The Abacus': 'https://static.wikia.nocookie.net/slay-the-spire/images/9/9a/TheAbacus.png/revision/latest/scale-to-width-down/67?cb=20200203154328',\n",
       " 'The Boot': 'https://static.wikia.nocookie.net/slay-the-spire/images/5/5c/Boot.png/revision/latest/scale-to-width-down/67?cb=20200203150529',\n",
       " 'The Courier': 'https://static.wikia.nocookie.net/slay-the-spire/images/f/fe/TheCourier.png/revision/latest/scale-to-width-down/67?cb=20200203151455',\n",
       " 'The Specimen': 'https://static.wikia.nocookie.net/slay-the-spire/images/9/92/TheSpecimen.png/revision/latest/scale-to-width-down/67?cb=20200203152322',\n",
       " 'Thread and Needle': 'https://static.wikia.nocookie.net/slay-the-spire/images/8/87/ThreadandNeedle.png/revision/latest/scale-to-width-down/67?cb=20200203152338',\n",
       " 'Tingsha': 'https://static.wikia.nocookie.net/slay-the-spire/images/7/78/Tingsha.png/revision/latest/scale-to-width-down/67?cb=20190923235851',\n",
       " 'Tiny Chest': 'https://static.wikia.nocookie.net/slay-the-spire/images/6/6b/TinyChest.png/revision/latest/scale-to-width-down/67?cb=20190923235903',\n",
       " 'Tiny House': 'https://static.wikia.nocookie.net/slay-the-spire/images/5/53/TinyHouse.png/revision/latest/scale-to-width-down/67?cb=20190923235918',\n",
       " 'Toolbox': 'https://static.wikia.nocookie.net/slay-the-spire/images/4/46/Toolbox.png/revision/latest/scale-to-width-down/67?cb=20200203154340',\n",
       " 'Torii': 'https://static.wikia.nocookie.net/slay-the-spire/images/2/23/Torii.png/revision/latest/scale-to-width-down/67?cb=20200203152351',\n",
       " 'Tough Bandages': 'https://static.wikia.nocookie.net/slay-the-spire/images/f/f7/ToughBandages.png/revision/latest/scale-to-width-down/67?cb=20200203152407',\n",
       " 'Toxic Egg': 'https://static.wikia.nocookie.net/slay-the-spire/images/c/c4/ToxicEgg2.png/revision/latest/scale-to-width-down/67?cb=20190924000004',\n",
       " 'Toy Ornithopter': 'https://static.wikia.nocookie.net/slay-the-spire/images/2/2b/ToyOrnithopter.png/revision/latest/scale-to-width-down/67?cb=20190924000014',\n",
       " 'Tungsten Rod': 'https://static.wikia.nocookie.net/slay-the-spire/images/a/a3/TungstenRod.png/revision/latest/scale-to-width-down/67?cb=20200203152420',\n",
       " 'Turnip': 'https://static.wikia.nocookie.net/slay-the-spire/images/b/b7/Turnip.png/revision/latest/scale-to-width-down/67?cb=20200203152625',\n",
       " 'Twisted Funnel': 'https://static.wikia.nocookie.net/slay-the-spire/images/7/7e/TwistedFunnel.png/revision/latest/scale-to-width-down/67?cb=20200203154356',\n",
       " 'Unceasing Top': 'https://static.wikia.nocookie.net/slay-the-spire/images/0/06/UnceasingTop.png/revision/latest/scale-to-width-down/67?cb=20190924000051',\n",
       " 'Vajra': 'https://static.wikia.nocookie.net/slay-the-spire/images/d/dc/Vajra.png/revision/latest/scale-to-width-down/67?cb=20200203150630',\n",
       " 'Velvet Choker': 'https://static.wikia.nocookie.net/slay-the-spire/images/b/b9/VelvetChoker.png/revision/latest/scale-to-width-down/67?cb=20190924000109',\n",
       " 'Violet Lotus': 'https://static.wikia.nocookie.net/slay-the-spire/images/8/8b/Violet_lotus.png/revision/latest/scale-to-width-down/67?cb=20200203153324',\n",
       " 'War Paint': 'https://static.wikia.nocookie.net/slay-the-spire/images/0/07/WarPaint.png/revision/latest/scale-to-width-down/67?cb=20200203150640',\n",
       " 'Warped Tongs': 'https://static.wikia.nocookie.net/slay-the-spire/images/4/41/WarpedTongs.png/revision/latest/scale-to-width-down/67?cb=20200203153911',\n",
       " 'Whetstone': 'https://static.wikia.nocookie.net/slay-the-spire/images/9/9f/Whetstone.png/revision/latest/scale-to-width-down/67?cb=20200203150651',\n",
       " 'White Beast Statue': 'https://static.wikia.nocookie.net/slay-the-spire/images/5/5b/WhiteBeastStatue.png/revision/latest/scale-to-width-down/67?cb=20200203151506',\n",
       " 'Wing Boots': 'https://static.wikia.nocookie.net/slay-the-spire/images/7/70/WingedGreaves.png/revision/latest/scale-to-width-down/67?cb=20200203152443',\n",
       " 'Wrist Blade': 'https://static.wikia.nocookie.net/slay-the-spire/images/e/e0/WristBlade.png/revision/latest/scale-to-width-down/67?cb=20200203153337'}"
      ]
     },
     "execution_count": 11,
     "metadata": {},
     "output_type": "execute_result"
    }
   ],
   "source": [
    "url = \"https://slay-the-spire.fandom.com/wiki/Relics\"\n",
    "response = requests.get(url)\n",
    "soup = BeautifulSoup(response.text, \"html.parser\")\n",
    "\n",
    "reli_dict = create_dict_relics(soup)\n",
    "reli_dict=  dict(sorted(reli_dict.items()))\n",
    "reli_dict\n"
   ]
  }
 ],
 "metadata": {
  "kernelspec": {
   "display_name": "base",
   "language": "python",
   "name": "python3"
  },
  "language_info": {
   "codemirror_mode": {
    "name": "ipython",
    "version": 3
   },
   "file_extension": ".py",
   "mimetype": "text/x-python",
   "name": "python",
   "nbconvert_exporter": "python",
   "pygments_lexer": "ipython3",
   "version": "3.11.7"
  }
 },
 "nbformat": 4,
 "nbformat_minor": 2
}
