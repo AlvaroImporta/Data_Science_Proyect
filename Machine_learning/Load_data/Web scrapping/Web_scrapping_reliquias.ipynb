{
 "cells": [
  {
   "cell_type": "code",
   "execution_count": 101,
   "metadata": {},
   "outputs": [],
   "source": [
    "import requests\n",
    "from bs4 import BeautifulSoup\n",
    "import os"
   ]
  },
  {
   "cell_type": "code",
   "execution_count": 93,
   "metadata": {},
   "outputs": [
    {
     "name": "stdout",
     "output_type": "stream",
     "text": [
      "True\n"
     ]
    }
   ],
   "source": [
    "url = \"https://slay-the-spire.fandom.com/wiki/Relics\"\n",
    "response = requests.get(url)\n",
    "print(bool(response))\n",
    "soup = BeautifulSoup(response.text, \"html.parser\")"
   ]
  },
  {
   "cell_type": "code",
   "execution_count": 94,
   "metadata": {},
   "outputs": [],
   "source": [
    "imagenes = {}\n",
    "\n",
    "for data in soup.find_all(\"span\", attrs={\"class\":\"relic-tooltip\"}):\n",
    "    nombre = data[\"data-name\"]\n",
    "    imagen = data.img[\"data-src\"]\n",
    "    imagenes.update({nombre: imagen})"
   ]
  },
  {
   "cell_type": "code",
   "execution_count": 95,
   "metadata": {},
   "outputs": [
    {
     "data": {
      "text/plain": [
       "179"
      ]
     },
     "execution_count": 95,
     "metadata": {},
     "output_type": "execute_result"
    }
   ],
   "source": [
    "len(imagenes)"
   ]
  },
  {
   "cell_type": "code",
   "execution_count": 96,
   "metadata": {},
   "outputs": [],
   "source": [
    "carpeta_imagenes = f'imagenes_reliquias'\n",
    "if not os.path.exists(carpeta_imagenes):\n",
    "    os.makedirs(carpeta_imagenes) \n",
    "# Descargar cada imagen\n",
    "for nombre, url_imagen in imagenes.items():\n",
    "    # Obtener el contenido de la imagen\n",
    "    respuesta_imagen = requests.get(url_imagen, stream=True)\n",
    "    if respuesta_imagen.status_code == 200:\n",
    "        # Crear la ruta completa para guardar la imagen\n",
    "        ruta_imagen = os.path.join(carpeta_imagenes, nombre + '.jpg')\n",
    "        # Guardar la imagen en el archivo\n",
    "        with open(ruta_imagen, 'wb') as archivo_imagen:\n",
    "            for chunk in respuesta_imagen.iter_content(1024):\n",
    "                archivo_imagen.write(chunk)\n",
    "    else:\n",
    "        print(f'No se pudo descargar la imagen {nombre}.')"
   ]
  },
  {
   "cell_type": "code",
   "execution_count": 102,
   "metadata": {},
   "outputs": [],
   "source": [
    "def download_img_relic(imagenes):\n",
    "    carpeta_imagenes = f'imagenes_reliquias'\n",
    "    if not os.path.exists(carpeta_imagenes):\n",
    "        os.makedirs(carpeta_imagenes) \n",
    "    # Descargar cada imagen\n",
    "    for nombre, url_imagen in imagenes.items():\n",
    "        # Obtener el contenido de la imagen\n",
    "        respuesta_imagen = requests.get(url_imagen, stream=True)\n",
    "        if respuesta_imagen.status_code == 200:\n",
    "            # Crear la ruta completa para guardar la imagen\n",
    "            ruta_imagen = os.path.join(carpeta_imagenes, nombre + '.jpg')\n",
    "            # Guardar la imagen en el archivo\n",
    "            with open(ruta_imagen, 'wb') as archivo_imagen:\n",
    "                for chunk in respuesta_imagen.iter_content(1024):\n",
    "                    archivo_imagen.write(chunk)\n",
    "        else:\n",
    "            print(f'No se pudo descargar la imagen {nombre}.')"
   ]
  },
  {
   "cell_type": "code",
   "execution_count": 103,
   "metadata": {},
   "outputs": [],
   "source": [
    "def create_dict_relics(soup_in):\n",
    "    imagenes = {}\n",
    "\n",
    "    for data in soup_in.find_all(\"span\", attrs={\"class\":\"relic-tooltip\"}):\n",
    "        nombre = data[\"data-name\"]\n",
    "        imagen = data.img[\"data-src\"]\n",
    "        imagenes.update({nombre: imagen})\n",
    "\n",
    "    return imagenes"
   ]
  },
  {
   "cell_type": "code",
   "execution_count": 104,
   "metadata": {},
   "outputs": [],
   "source": [
    "def download_relics():\n",
    "    url = \"https://slay-the-spire.fandom.com/wiki/Relics\"\n",
    "    response = requests.get(url)\n",
    "    print(bool(response))\n",
    "    soup = BeautifulSoup(response.text, \"html.parser\")\n",
    "\n",
    "    dict_relics = create_dict_relics(soup)\n",
    "    download_img_relic(dict_relics)\n",
    "    "
   ]
  },
  {
   "cell_type": "code",
   "execution_count": 105,
   "metadata": {},
   "outputs": [
    {
     "name": "stdout",
     "output_type": "stream",
     "text": [
      "True\n"
     ]
    }
   ],
   "source": [
    "download_relics()"
   ]
  }
 ],
 "metadata": {
  "kernelspec": {
   "display_name": "base",
   "language": "python",
   "name": "python3"
  },
  "language_info": {
   "codemirror_mode": {
    "name": "ipython",
    "version": 3
   },
   "file_extension": ".py",
   "mimetype": "text/x-python",
   "name": "python",
   "nbconvert_exporter": "python",
   "pygments_lexer": "ipython3",
   "version": "3.11.7"
  }
 },
 "nbformat": 4,
 "nbformat_minor": 2
}
