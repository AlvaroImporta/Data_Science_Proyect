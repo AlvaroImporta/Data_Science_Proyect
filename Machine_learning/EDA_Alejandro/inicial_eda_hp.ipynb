{
 "cells": [
  {
   "cell_type": "code",
   "execution_count": 1,
   "metadata": {},
   "outputs": [],
   "source": [
    "import pandas as pd\n",
    "import seaborn as sns\n",
    "import matplotlib.pyplot as plt"
   ]
  },
  {
   "cell_type": "code",
   "execution_count": 2,
   "metadata": {},
   "outputs": [],
   "source": [
    "df_ironclad = pd.read_csv(\"../Load_data/DataSet_IC.csv\")\n",
    "df_silent = pd.read_csv(\"../Load_data/DataSet_TS.csv\")\n",
    "df_defect = pd.read_csv(\"../Load_data/DataSet_DF.csv\")\n",
    "df_watcher = pd.read_csv(\"../Load_data/DataSet_WT.csv\")\n"
   ]
  },
  {
   "cell_type": "code",
   "execution_count": 3,
   "metadata": {},
   "outputs": [],
   "source": [
    "df_ironclad[\"character\"] = \"ironclad\"\n",
    "df_silent[\"character\"] = \"silent\"\n",
    "df_defect[\"character\"] = \"defect\"\n",
    "df_watcher[\"character\"] = \"watcher\""
   ]
  },
  {
   "cell_type": "code",
   "execution_count": 4,
   "metadata": {},
   "outputs": [
    {
     "data": {
      "text/plain": [
       "(15740, 377)"
      ]
     },
     "execution_count": 4,
     "metadata": {},
     "output_type": "execute_result"
    }
   ],
   "source": [
    "df_watcher.shape"
   ]
  },
  {
   "cell_type": "code",
   "execution_count": 5,
   "metadata": {},
   "outputs": [],
   "source": [
    "df = pd.concat([df_ironclad, df_silent, df_defect, df_watcher], axis=0, ignore_index=True)"
   ]
  },
  {
   "cell_type": "code",
   "execution_count": 6,
   "metadata": {},
   "outputs": [
    {
     "data": {
      "text/plain": [
       "(302459, 868)"
      ]
     },
     "execution_count": 6,
     "metadata": {},
     "output_type": "execute_result"
    }
   ],
   "source": [
    "df.shape"
   ]
  },
  {
   "cell_type": "code",
   "execution_count": 7,
   "metadata": {},
   "outputs": [],
   "source": [
    "df = df.fillna(0)"
   ]
  },
  {
   "cell_type": "code",
   "execution_count": 8,
   "metadata": {},
   "outputs": [
    {
     "data": {
      "text/plain": [
       "Index(['character', 'max_hp', 'entering_hp', 'damage_taken', 'enemies',\n",
       "       'level_asc_floor', 'dmg_mean_ascension', 'enemy_type', 'Anger',\n",
       "       'Anger+1',\n",
       "       ...\n",
       "       'Worship+1', 'WreathOfFlame', 'WreathOfFlame+1', 'Damaru', 'GoldenEye',\n",
       "       'Melange', 'PureWater', 'TeardropLocket', 'VioletLotus', 'Yang'],\n",
       "      dtype='object', length=868)"
      ]
     },
     "execution_count": 8,
     "metadata": {},
     "output_type": "execute_result"
    }
   ],
   "source": [
    "df.columns"
   ]
  },
  {
   "cell_type": "code",
   "execution_count": 9,
   "metadata": {},
   "outputs": [],
   "source": [
    "# # Seleccionar las columnas de interés y eliminar filas con valores NaN\n",
    "# df_filtered = df[['max_hp', 'entering_hp', 'damage_taken', 'level_asc_floor', 'character']].dropna()\n",
    "\n",
    "# # Crear la gráfica de pares\n",
    "# sns.pairplot(df_filtered, hue='character', palette='Set1')\n",
    "\n",
    "# # Mostrar la gráfica\n",
    "# plt.show()"
   ]
  },
  {
   "cell_type": "code",
   "execution_count": 10,
   "metadata": {},
   "outputs": [
    {
     "ename": "ImportError",
     "evalue": "cannot import name 'plt' from 'matplotlib.pyplot' (C:\\Users\\garch\\AppData\\Roaming\\Python\\Python311\\site-packages\\matplotlib\\pyplot.py)",
     "output_type": "error",
     "traceback": [
      "\u001b[1;31m---------------------------------------------------------------------------\u001b[0m",
      "\u001b[1;31mImportError\u001b[0m                               Traceback (most recent call last)",
      "Cell \u001b[1;32mIn[10], line 1\u001b[0m\n\u001b[1;32m----> 1\u001b[0m \u001b[38;5;28;01mfrom\u001b[39;00m \u001b[38;5;21;01mmatplotlib\u001b[39;00m\u001b[38;5;21;01m.\u001b[39;00m\u001b[38;5;21;01mpyplot\u001b[39;00m \u001b[38;5;28;01mimport\u001b[39;00m plt\n",
      "\u001b[1;31mImportError\u001b[0m: cannot import name 'plt' from 'matplotlib.pyplot' (C:\\Users\\garch\\AppData\\Roaming\\Python\\Python311\\site-packages\\matplotlib\\pyplot.py)"
     ]
    }
   ],
   "source": [
    "from matplotlib.pyplot import plt"
   ]
  },
  {
   "cell_type": "code",
   "execution_count": 11,
   "metadata": {},
   "outputs": [],
   "source": [
    "df_filtered = df[['max_hp', 'entering_hp', 'damage_taken', 'level_asc_floor', 'character']].dropna()"
   ]
  },
  {
   "cell_type": "code",
   "execution_count": null,
   "metadata": {},
   "outputs": [
    {
     "ename": "AttributeError",
     "evalue": "'function' object has no attribute 'plot'",
     "output_type": "error",
     "traceback": [
      "\u001b[1;31m---------------------------------------------------------------------------\u001b[0m",
      "\u001b[1;31mAttributeError\u001b[0m                            Traceback (most recent call last)",
      "Cell \u001b[1;32mIn[20], line 1\u001b[0m\n\u001b[1;32m----> 1\u001b[0m plot\u001b[38;5;241m.\u001b[39mplot(df_filtered, x\u001b[38;5;241m=\u001b[39m\u001b[38;5;124m\"\u001b[39m\u001b[38;5;124mlevel_asc_floor\u001b[39m\u001b[38;5;124m\"\u001b[39m)\n",
      "\u001b[1;31mAttributeError\u001b[0m: 'function' object has no attribute 'plot'"
     ]
    }
   ],
   "source": [
    "\n",
    "plt.plot(x=df_filtered.level_asc_floor, y=df_filtered.level_asc_floor, marker='o', linestyle='-', color='b', label='Datos') \n",
    "plt.title('Gráfico de Líneas de Ejemplo') \n",
    "plt.xlabel('Eje X') \n",
    "plt.ylabel('Eje Y') \n",
    "plt.legend() \n",
    "\n",
    "plt.show()"
   ]
  }
 ],
 "metadata": {
  "kernelspec": {
   "display_name": "base",
   "language": "python",
   "name": "python3"
  },
  "language_info": {
   "codemirror_mode": {
    "name": "ipython",
    "version": 3
   },
   "file_extension": ".py",
   "mimetype": "text/x-python",
   "name": "python",
   "nbconvert_exporter": "python",
   "pygments_lexer": "ipython3",
   "version": "3.11.7"
  }
 },
 "nbformat": 4,
 "nbformat_minor": 2
}
